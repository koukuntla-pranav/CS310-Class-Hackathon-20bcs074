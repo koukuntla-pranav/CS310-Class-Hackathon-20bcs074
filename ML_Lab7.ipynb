{
  "nbformat": 4,
  "nbformat_minor": 0,
  "metadata": {
    "colab": {
      "provenance": [],
      "authorship_tag": "ABX9TyOk6e/JWfrwsdv0I6uVVw2A",
      "include_colab_link": true
    },
    "kernelspec": {
      "name": "python3",
      "display_name": "Python 3"
    },
    "language_info": {
      "name": "python"
    }
  },
  "cells": [
    {
      "cell_type": "markdown",
      "metadata": {
        "id": "view-in-github",
        "colab_type": "text"
      },
      "source": [
        "<a href=\"https://colab.research.google.com/github/koukuntla-pranav/CS310-Class-Hackathon-20bcs074/blob/main/ML_Lab7.ipynb\" target=\"_parent\"><img src=\"https://colab.research.google.com/assets/colab-badge.svg\" alt=\"Open In Colab\"/></a>"
      ]
    },
    {
      "cell_type": "code",
      "execution_count": null,
      "metadata": {
        "id": "UJaF7sGf-4FY"
      },
      "outputs": [],
      "source": [
        "import numpy as np\n",
        "import pandas as pd\n",
        "from sklearn.naive_bayes import GaussianNB\n",
        "from sklearn import model_selection\n",
        "from sklearn.model_selection import train_test_split\n",
        "\n",
        "df = pd.read_csv('Iris.csv')"
      ]
    },
    {
      "cell_type": "code",
      "source": [
        "gus = GaussianNB()\n",
        "\n",
        "\n",
        "array = df.values\n",
        "X = array[:,1:5]\n",
        "Y = array[:,5]\n",
        "\n",
        "\n",
        "X_train, X_test, Y_train, Y_test = model_selection.train_test_split(X, Y, test_size = 0.40, random_state=5)\n",
        "\n",
        "\n",
        "gus.fit(X_train, Y_train) \n",
        "y_pred = gus.predict(X_test)\n",
        "\n",
        "#y_pred"
      ],
      "metadata": {
        "id": "HXe2yTBMATTc"
      },
      "execution_count": null,
      "outputs": []
    },
    {
      "cell_type": "code",
      "source": [
        "# Precision, Recall, and F1-score\n",
        "from sklearn.metrics import recall_score\n",
        "from sklearn.metrics import precision_score\n",
        "from sklearn.metrics import f1_score\n",
        "\n",
        "precision = precision_score(Y_test,y_pred,average= None)\n",
        "print('Precision: ', precision)\n",
        "\n",
        "recall = recall_score(Y_test,y_pred,average=None)\n",
        "print('Recall: ' , recall)\n",
        "\n",
        "score = f1_score(Y_test,y_pred,average=None)\n",
        "print('F-Measure: ' , score)\n"
      ],
      "metadata": {
        "colab": {
          "base_uri": "https://localhost:8080/"
        },
        "id": "mFXFADK8I5kC",
        "outputId": "f9e28ed6-a9bc-42fc-b6cc-cfa345bacb1c"
      },
      "execution_count": null,
      "outputs": [
        {
          "output_type": "stream",
          "name": "stdout",
          "text": [
            "Precision:  [1.         0.95238095 0.94736842]\n",
            "Recall:  [1.         0.95238095 0.94736842]\n",
            "F-Measure:  [1.         0.95238095 0.94736842]\n"
          ]
        }
      ]
    }
  ]
}